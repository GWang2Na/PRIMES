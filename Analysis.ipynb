{
 "cells": [
  {
   "cell_type": "code",
   "execution_count": null,
   "id": "354dad53",
   "metadata": {},
   "outputs": [],
   "source": [
    "#https://www.kaggle.com/code/charel/learn-by-example-rnn-lstm-gru-time-series/notebook\n",
    "#https://machinelearningmastery.com/multivariate-time-series-forecasting-lstms-keras/\n",
    "#https://curiousily.com/posts/time-series-forecasting-with-lstm-for-daily-coronavirus-cases/\n",
    "\n",
    "#https://jtd.amegroups.com/article/view/36385/html\n",
    "#https://github.com/curiousily/How-to-Predict-Bitcoin-Prices-using-LSTMs-in-Keras/blob/master/predicting_stock_prices.ipynb\n",
    "#https://www.kaggle.com/code/nicapotato/keras-timeseries-multi-step-multi-output/notebook\n",
    "    \n",
    "    \n",
    "#LSTM Model combine climate factors\n",
    "\n",
    "import numpy as np # linear algebra\n",
    "from numpy import newaxis\n",
    "import pandas as pd # data processing, CSV file I/O (e.g. pd.read_csv)\n",
    "from keras.layers.core import Dense, Activation, Dropout\n",
    "from keras.layers.recurrent import LSTM, GRU\n",
    "from keras.models import Sequential\n",
    "from keras import optimizers\n",
    "from sklearn.preprocessing import MinMaxScaler\n",
    "import matplotlib.pyplot as plt\n",
    "plt.style.use('fivethirtyeight')\n",
    "import os\n",
    "\n",
    "print ('import completed')\n"
   ]
  },
  {
   "cell_type": "code",
   "execution_count": null,
   "id": "8c27acec",
   "metadata": {},
   "outputs": [],
   "source": [
    "sc = MinMaxScaler(feature_range=(0,1))\n",
    "\n",
    "dt=pd.read_csv(\"C:/Users/sally/Data/Peru_Climate.csv\")\n",
    "dt=dt[['Date','Year', 'EW','temp','humidity','precip']]\n"
   ]
  },
  {
   "cell_type": "code",
   "execution_count": null,
   "id": "7f8d2314",
   "metadata": {},
   "outputs": [],
   "source": [
    "\n",
    "dfC = pd.read_csv(\"C:/Users/sally/Data/COVID-19-Peru.csv\")\n",
    "\n",
    "dt=pd.read_csv(\"C:/Users/sally/Data/Peru_Climate.csv\")\n",
    "dt=dt[['Date','Year', 'EW','temp','humidity','precip']]\n",
    "\n",
    "dfC = pd.merge(dfC,dt, on=['Year','EW','Date'])\n",
    "\n",
    "dfC['Week']=(dfC['Year']-2020)*52+dfC['EW']\n",
    "\n",
    "dfC.set_index('Date')\n",
    "\n",
    "dfC['New_cases'] = dfC['New_cases'].rolling(7).mean()\n",
    "dfC['New_cases'].fillna(0, inplace=True)\n",
    "\n",
    "dfC=dfC[['Year', 'EW','New_cases','temp','humidity','precip']]\n",
    "dfC=dfC.interpolate()\n",
    "\n",
    "\n",
    "print(dfC)\n",
    "\n"
   ]
  },
  {
   "cell_type": "code",
   "execution_count": null,
   "id": "393ba7fd",
   "metadata": {},
   "outputs": [],
   "source": [
    "\n",
    "df=dfC[['temp','humidity','precip','New_cases']]\n",
    "\n",
    "df[['temp','humidity','precip','New_cases']]=sc.fit_transform(df)\n",
    "print(df)\n"
   ]
  },
  {
   "cell_type": "code",
   "execution_count": null,
   "id": "66ee0906",
   "metadata": {},
   "outputs": [],
   "source": [
    "def load_data_all(datasetname, seq_len, rt):\n",
    "    # A support function to help prepare datasets for an RNN/LSTM/GRU\n",
    "    data = datasetname.loc[:,]\n",
    "        \n",
    "    sequence_length = seq_len + 1\n",
    "    result = []\n",
    "    for index in range(len(data) - sequence_length):\n",
    "        result.append(data[index: index + sequence_length])   \n",
    "\n",
    "    result = np.array(result)\n",
    "\n",
    "    row = round(rt * result.shape[0])\n",
    "    train = result[:int(row), :]\n",
    "    np.random.shuffle(train)\n",
    "    x_train = train[:, :-1]\n",
    "    y_train = train[:, -1]\n",
    "    x_test = result[int(row):, :-1]\n",
    "    y_test = result[int(row):, -1]\n",
    "\n",
    "    x_train = np.reshape(x_train, (x_train.shape[0], x_train.shape[1], x_train.shape[2]))\n",
    "    x_test = np.reshape(x_test, (x_test.shape[0], x_test.shape[1], x_test.shape[2]))  \n",
    "    return [x_train, y_train, x_test, y_test]\n",
    "\n",
    "\n",
    "feature_train, label_train, feature_test, label_test = load_data_all(df, 21, 0.8)\n",
    "\n",
    "print(feature_train.shape)\n",
    "print(feature_test.shape)\n",
    "print(label_train.shape)\n",
    "print(label_test.shape)"
   ]
  },
  {
   "cell_type": "code",
   "execution_count": null,
   "id": "0b919186",
   "metadata": {},
   "outputs": [],
   "source": [
    "print(feature_train[0])\n",
    "print(label_train[0])"
   ]
  },
  {
   "cell_type": "code",
   "execution_count": null,
   "id": "0363ffba",
   "metadata": {},
   "outputs": [],
   "source": [
    "model = Sequential()\n",
    "model.add(LSTM(50, return_sequences=True, input_shape=(feature_train.shape[1], feature_train.shape[2])))\n",
    "model.add(Dropout(0.2))\n",
    "model.add(LSTM(100, return_sequences=False))\n",
    "model.add(Dropout(0.2))\n",
    "model.add(Dense(1, activation = \"linear\"))\n",
    "\n",
    "model.compile(loss='mse', optimizer='adam')\n",
    "\n",
    "print ('model compiled')\n",
    "\n",
    "print (model.summary())"
   ]
  },
  {
   "cell_type": "code",
   "execution_count": null,
   "id": "0b0584c3",
   "metadata": {},
   "outputs": [],
   "source": [
    "history=model.fit(feature_train, label_train[:,-1], batch_size=512, epochs=200, validation_data = (feature_test, label_test[:,-1]))"
   ]
  },
  {
   "cell_type": "code",
   "execution_count": null,
   "id": "3a69131f",
   "metadata": {},
   "outputs": [],
   "source": [
    "plt.plot(history.history['loss'], color='blue')\n",
    "plt.plot(history.history['val_loss'], color='red')\n",
    "plt.legend(['Loss','Validation Loss'], prop={'size': 10}, loc='upper center', bbox_to_anchor=(0.5, 1.02), ncol=3, fancybox=True, shadow=True)\n",
    "plt.xlabel('Epoch')\n",
    "plt.ylabel('Loss')\n",
    "plt.savefig('C:/Users/sally/Data/Peru_LSTM_COVID_Climate_Loss.png')\n",
    "plt.show()\n",
    "plt.close()"
   ]
  },
  {
   "cell_type": "code",
   "execution_count": null,
   "id": "21b09003",
   "metadata": {},
   "outputs": [],
   "source": [
    "predicted_test = model.predict(feature_test)\n",
    "\n",
    "def plot_results_1(predicted_data, true_data): \n",
    "    fig = plt.figure(facecolor='white') \n",
    "    ax = fig.add_subplot(111) \n",
    "    ax.plot(true_data, label='True Data') \n",
    "    plt.plot(predicted_data, label='Prediction') \n",
    "    plt.legend() \n",
    "    plt.show() \n",
    "\n",
    "plot_results_1(predicted_test, label_test[:,-1])"
   ]
  },
  {
   "cell_type": "code",
   "execution_count": null,
   "id": "3fac46a6",
   "metadata": {},
   "outputs": [],
   "source": [
    "#####END#####"
   ]
  },
  {
   "cell_type": "code",
   "execution_count": null,
   "id": "cc80500c",
   "metadata": {},
   "outputs": [],
   "source": [
    "workdir = \"C:/Users/sally/Data/\"\n",
    "def plot_results_1(predicted_data, true_data): \n",
    "    fig = plt.figure(facecolor='white') \n",
    "    ax = fig.add_subplot(111) \n",
    "    ax.plot(true_data, label='True Data') \n",
    "    plt.plot(predicted_data, label='Prediction') \n",
    "    plt.legend() \n",
    "    plt.show() \n",
    "    #filename = str(figname) + '.png'\n",
    "    #plt.savefig(os.path.join(workdir, filename))\n",
    "\n",
    "def plot_results_2(predicted_data, true_data, figname): \n",
    "    fig = plt.figure(facecolor='white') \n",
    "    ax = fig.add_subplot(111) \n",
    "    ax.plot(true_data, label='True Data') \n",
    "    plt.plot(predicted_data, label='Prediction') \n",
    "    plt.legend() \n",
    "    plt.show() \n",
    "    filename = str(figname) + '.png'\n",
    "    fig.savefig(os.path.join(workdir, filename)) \n",
    "    \n",
    "predicted_test = model.predict(feature_test)\n",
    "\n",
    "print(predicted_test)\n",
    "print(label_test[:,-2])\n"
   ]
  },
  {
   "cell_type": "code",
   "execution_count": null,
   "id": "7ee15e21",
   "metadata": {},
   "outputs": [],
   "source": [
    "plot_results_1(predicted_test,label_test[:,-2])"
   ]
  },
  {
   "cell_type": "code",
   "execution_count": null,
   "id": "77b0e064",
   "metadata": {},
   "outputs": [],
   "source": [
    "model2 = Sequential()\n",
    "model2.add(LSTM(50, return_sequences=True, input_shape=(feature_train.shape[1], feature_train.shape[2])))\n",
    "model2.add(Dropout(0.2))\n",
    "model2.add(LSTM(100, return_sequences=False))\n",
    "model2.add(Dropout(0.2))\n",
    "model2.add(Dense(1, activation = \"linear\"))\n",
    "\n",
    "model2.compile(loss='mse', optimizer='adam')\n",
    "\n",
    "print ('model compiled')\n",
    "\n",
    "print (model2.summary())"
   ]
  },
  {
   "cell_type": "code",
   "execution_count": null,
   "id": "0646445d",
   "metadata": {},
   "outputs": [],
   "source": [
    "model2.fit(feature_train, label_train[:,-1], batch_size=512, epochs=50, validation_data = (feature_test, label_test[:,-1]))"
   ]
  },
  {
   "cell_type": "code",
   "execution_count": null,
   "id": "74cd4349",
   "metadata": {},
   "outputs": [],
   "source": [
    "predicted_test2 = model2.predict(feature_test)\n",
    "\n",
    "print(predicted_test2)\n",
    "print(label_test[:,-1])"
   ]
  },
  {
   "cell_type": "code",
   "execution_count": null,
   "id": "9cf2aadb",
   "metadata": {},
   "outputs": [],
   "source": [
    "plot_results_1(predicted_test2,label_test[:,-1])"
   ]
  },
  {
   "cell_type": "code",
   "execution_count": null,
   "id": "551acd33",
   "metadata": {},
   "outputs": [],
   "source": [
    "\n",
    "def predict_future_two(feature_test, model1, model2, period):\n",
    "    future=[]\n",
    "    test=feature_test[-1:].copy()\n",
    "    sp=test.shape[1]\n",
    "\n",
    "    for _ in range(period):    \n",
    "        test2=test.copy()     \n",
    "        p1=model.predict(test)[0][0]   \n",
    "        p2=model2.predict(test)[0][0]   \n",
    "        future.append([p1,p2])\n",
    "        for i in range(sp-1):\n",
    "            test[0][i][0]=test2[0][i+1][0]\n",
    "            test[0][i][1]=test2[0][i+1][1]\n",
    "        test[0][sp-1][0]=future[-1][0]\n",
    "        test[0][sp-1][1]=future[-1][1]\n",
    "    return future\n",
    "\n",
    "future=predict_future_two(feature_test, model, model2, 100)\n"
   ]
  },
  {
   "cell_type": "code",
   "execution_count": null,
   "id": "507afdb8",
   "metadata": {},
   "outputs": [],
   "source": [
    "future2 = np.array(future)\n",
    "plt.plot(future2[:,0])\n",
    "plt.plot(future2[:,1])\n"
   ]
  },
  {
   "cell_type": "code",
   "execution_count": null,
   "id": "e7533b0c",
   "metadata": {},
   "outputs": [],
   "source": [
    "print(predicted_test2)"
   ]
  },
  {
   "cell_type": "code",
   "execution_count": null,
   "id": "72de7945",
   "metadata": {},
   "outputs": [],
   "source": [
    "predict=[[predicted_test[i][0], predicted_test2[i][0] ] for i in range(len(predicted_test))]\n",
    "predict2 = np.array(predict)\n",
    "\n",
    "future3 = future2.reshape(future2.shape[0], 2)\n",
    "predict3 = predict2.reshape(predict2.shape[0], 2)\n",
    "\n",
    "predict3 = np.append(predict3,future3,axis=0 )\n",
    "\n",
    "predict3 = sc.inverse_transform(predict3)\n",
    "\n",
    "label_test2 = sc.inverse_transform(label_test.reshape(label_test.shape[0],2))\n",
    "\n",
    "plot_results_2(predict3[:,0],label_test2[:,0], \"Peru_Dengue_comb_pred_day\")\n",
    "plot_results_2(predict3[:,1],label_test2[:,1], \"Peru_COVID_comb_pred_day\")\n"
   ]
  },
  {
   "cell_type": "code",
   "execution_count": null,
   "id": "e446e6ea",
   "metadata": {},
   "outputs": [],
   "source": [
    "predict4=np.log10(predict3+1)\n",
    "label_test3=np.log10(label_test2+1)\n",
    "\n",
    "plot_results_2(predict4[:,0],label_test3[:,0], \"Peru_Dengue_log_comb_pred_day\")\n",
    "plot_results_2(predict4[:,1],label_test3[:,1], \"Peru_COVID_log_comb_pred_day\")\n"
   ]
  },
  {
   "cell_type": "code",
   "execution_count": null,
   "id": "e8763fc0",
   "metadata": {},
   "outputs": [],
   "source": [
    "def predict_future_two_start_climate(feature_test, model1, model2, period):\n",
    "    future=[]\n",
    "    test=feature_test.copy()\n",
    "    sp=test.shape[1]\n",
    "\n",
    "    for i in range(period-1):   \n",
    "         \n",
    "        p1=model.predict(test[i:i+1])[0][0]   \n",
    "        p2=model2.predict(test[i:i+1])[0][0]   \n",
    "        future.append([p1,p2])\n",
    "        for i in range(sp-1):\n",
    "            test[0][i][0]=test2[0][i+1][0]\n",
    "            test[0][i][1]=test2[0][i+1][1]\n",
    "        test[0][sp-1][0]=future[-1][0]\n",
    "        test[0][sp-1][1]=future[-1][1]\n",
    "    return future\n",
    "\n",
    "future_start=predict_future_two_start(feature_test, model, model2, feature_test.shape[0])\n",
    "future2_start = np.array(future_start)\n",
    "plt.plot(future2_start[:,0])\n",
    "plt.plot(future2_start[:,1])"
   ]
  },
  {
   "cell_type": "code",
   "execution_count": null,
   "id": "1a00dac3",
   "metadata": {},
   "outputs": [],
   "source": [
    "predict3_start = sc.inverse_transform(future2_start)"
   ]
  },
  {
   "cell_type": "code",
   "execution_count": null,
   "id": "1c9d2a16",
   "metadata": {},
   "outputs": [],
   "source": [
    "plot_results_2(predict3_start[:,0],label_test2[:,0], \"Peru_Dengue_comb_pred_day_start\")\n",
    "plot_results_2(predict3_start[:,1],label_test2[:,1], \"Peru_COVID_comb_pred_day_start\")"
   ]
  },
  {
   "cell_type": "code",
   "execution_count": null,
   "id": "a79d6b61",
   "metadata": {},
   "outputs": [],
   "source": [
    "print(feature_test.shape)"
   ]
  },
  {
   "cell_type": "code",
   "execution_count": null,
   "id": "c3aa3a4d",
   "metadata": {},
   "outputs": [],
   "source": [
    "def predict_future_two_batch(feature_test, model1, model2, period):\n",
    "    future=[]   \n",
    "    lx = feature_test.shape[0]\n",
    "    sp = feature_test.shape[1]    \n",
    "    n = lx//period+1\n",
    "    for batch in range(n):\n",
    "        test=feature_test[batch*period:batch*period+1].copy()\n",
    "        for _ in range(period):\n",
    "        \n",
    "        \n",
    "            test2=test.copy()     \n",
    "            p1=model.predict(test)[0][0]   \n",
    "            p2=model2.predict(test)[0][0]   \n",
    "            future.append([p1,p2])\n",
    "            for i in range(sp-1):\n",
    "                test[0][i][0]=test2[0][i+1][0]\n",
    "                test[0][i][1]=test2[0][i+1][1]\n",
    "            test[0][sp-1][0]=future[-1][0]\n",
    "            test[0][sp-1][1]=future[-1][1]\n",
    "    return future\n",
    "\n",
    "future_batch=predict_future_two_batch(feature_test, model, model2, 21)\n",
    "future2_batch = np.array(future_batch)\n",
    "plt.plot(future2_batch[:,0])\n",
    "plt.plot(future2_batch[:,1])"
   ]
  },
  {
   "cell_type": "code",
   "execution_count": null,
   "id": "74957c35",
   "metadata": {},
   "outputs": [],
   "source": [
    "predict3_batch = sc.inverse_transform(future2_batch)\n",
    "plot_results_2(predict3_batch[:,0],label_test2[:,0], \"Peru_Dengue_comb_pred_day_batch\")\n",
    "plot_results_2(predict3_batch[:,1],label_test2[:,1], \"Peru_COVID_comb_pred_day_batch\")"
   ]
  },
  {
   "cell_type": "code",
   "execution_count": null,
   "id": "d8af24f6",
   "metadata": {},
   "outputs": [],
   "source": []
  }
 ],
 "metadata": {
  "kernelspec": {
   "display_name": "Python 3 (ipykernel)",
   "language": "python",
   "name": "python3"
  },
  "language_info": {
   "codemirror_mode": {
    "name": "ipython",
    "version": 3
   },
   "file_extension": ".py",
   "mimetype": "text/x-python",
   "name": "python",
   "nbconvert_exporter": "python",
   "pygments_lexer": "ipython3",
   "version": "3.9.10"
  }
 },
 "nbformat": 4,
 "nbformat_minor": 5
}
